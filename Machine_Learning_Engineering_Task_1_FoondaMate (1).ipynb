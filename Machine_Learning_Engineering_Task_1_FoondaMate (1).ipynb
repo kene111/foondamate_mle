{
  "nbformat": 4,
  "nbformat_minor": 0,
  "metadata": {
    "colab": {
      "name": "Machine Learning Engineering Task_1- FoondaMate.ipynb",
      "provenance": [],
      "collapsed_sections": []
    },
    "kernelspec": {
      "name": "python3",
      "display_name": "Python 3"
    },
    "language_info": {
      "name": "python"
    }
  },
  "cells": [
    {
      "cell_type": "code",
      "source": [
        "!pip install -U sentence-transformers"
      ],
      "metadata": {
        "colab": {
          "base_uri": "https://localhost:8080/"
        },
        "id": "9ih4k7EpICE4",
        "outputId": "a8c89205-cbac-4ad1-a07c-d346f553ad3c"
      },
      "execution_count": 1,
      "outputs": [
        {
          "output_type": "stream",
          "name": "stdout",
          "text": [
            "Looking in indexes: https://pypi.org/simple, https://us-python.pkg.dev/colab-wheels/public/simple/\n",
            "Requirement already satisfied: sentence-transformers in /usr/local/lib/python3.7/dist-packages (2.2.0)\n",
            "Requirement already satisfied: torch>=1.6.0 in /usr/local/lib/python3.7/dist-packages (from sentence-transformers) (1.11.0+cu113)\n",
            "Requirement already satisfied: tqdm in /usr/local/lib/python3.7/dist-packages (from sentence-transformers) (4.64.0)\n",
            "Requirement already satisfied: transformers<5.0.0,>=4.6.0 in /usr/local/lib/python3.7/dist-packages (from sentence-transformers) (4.19.2)\n",
            "Requirement already satisfied: numpy in /usr/local/lib/python3.7/dist-packages (from sentence-transformers) (1.21.6)\n",
            "Requirement already satisfied: scikit-learn in /usr/local/lib/python3.7/dist-packages (from sentence-transformers) (1.0.2)\n",
            "Requirement already satisfied: huggingface-hub in /usr/local/lib/python3.7/dist-packages (from sentence-transformers) (0.7.0)\n",
            "Requirement already satisfied: torchvision in /usr/local/lib/python3.7/dist-packages (from sentence-transformers) (0.12.0+cu113)\n",
            "Requirement already satisfied: sentencepiece in /usr/local/lib/python3.7/dist-packages (from sentence-transformers) (0.1.96)\n",
            "Requirement already satisfied: scipy in /usr/local/lib/python3.7/dist-packages (from sentence-transformers) (1.4.1)\n",
            "Requirement already satisfied: nltk in /usr/local/lib/python3.7/dist-packages (from sentence-transformers) (3.2.5)\n",
            "Requirement already satisfied: typing-extensions in /usr/local/lib/python3.7/dist-packages (from torch>=1.6.0->sentence-transformers) (4.2.0)\n",
            "Requirement already satisfied: requests in /usr/local/lib/python3.7/dist-packages (from transformers<5.0.0,>=4.6.0->sentence-transformers) (2.23.0)\n",
            "Requirement already satisfied: tokenizers!=0.11.3,<0.13,>=0.11.1 in /usr/local/lib/python3.7/dist-packages (from transformers<5.0.0,>=4.6.0->sentence-transformers) (0.12.1)\n",
            "Requirement already satisfied: filelock in /usr/local/lib/python3.7/dist-packages (from transformers<5.0.0,>=4.6.0->sentence-transformers) (3.7.0)\n",
            "Requirement already satisfied: importlib-metadata in /usr/local/lib/python3.7/dist-packages (from transformers<5.0.0,>=4.6.0->sentence-transformers) (4.11.3)\n",
            "Requirement already satisfied: regex!=2019.12.17 in /usr/local/lib/python3.7/dist-packages (from transformers<5.0.0,>=4.6.0->sentence-transformers) (2019.12.20)\n",
            "Requirement already satisfied: pyyaml>=5.1 in /usr/local/lib/python3.7/dist-packages (from transformers<5.0.0,>=4.6.0->sentence-transformers) (6.0)\n",
            "Requirement already satisfied: packaging>=20.0 in /usr/local/lib/python3.7/dist-packages (from transformers<5.0.0,>=4.6.0->sentence-transformers) (21.3)\n",
            "Requirement already satisfied: pyparsing!=3.0.5,>=2.0.2 in /usr/local/lib/python3.7/dist-packages (from packaging>=20.0->transformers<5.0.0,>=4.6.0->sentence-transformers) (3.0.9)\n",
            "Requirement already satisfied: zipp>=0.5 in /usr/local/lib/python3.7/dist-packages (from importlib-metadata->transformers<5.0.0,>=4.6.0->sentence-transformers) (3.8.0)\n",
            "Requirement already satisfied: six in /usr/local/lib/python3.7/dist-packages (from nltk->sentence-transformers) (1.15.0)\n",
            "Requirement already satisfied: idna<3,>=2.5 in /usr/local/lib/python3.7/dist-packages (from requests->transformers<5.0.0,>=4.6.0->sentence-transformers) (2.10)\n",
            "Requirement already satisfied: urllib3!=1.25.0,!=1.25.1,<1.26,>=1.21.1 in /usr/local/lib/python3.7/dist-packages (from requests->transformers<5.0.0,>=4.6.0->sentence-transformers) (1.24.3)\n",
            "Requirement already satisfied: chardet<4,>=3.0.2 in /usr/local/lib/python3.7/dist-packages (from requests->transformers<5.0.0,>=4.6.0->sentence-transformers) (3.0.4)\n",
            "Requirement already satisfied: certifi>=2017.4.17 in /usr/local/lib/python3.7/dist-packages (from requests->transformers<5.0.0,>=4.6.0->sentence-transformers) (2022.5.18.1)\n",
            "Requirement already satisfied: threadpoolctl>=2.0.0 in /usr/local/lib/python3.7/dist-packages (from scikit-learn->sentence-transformers) (3.1.0)\n",
            "Requirement already satisfied: joblib>=0.11 in /usr/local/lib/python3.7/dist-packages (from scikit-learn->sentence-transformers) (1.1.0)\n",
            "Requirement already satisfied: pillow!=8.3.*,>=5.3.0 in /usr/local/lib/python3.7/dist-packages (from torchvision->sentence-transformers) (7.1.2)\n"
          ]
        }
      ]
    },
    {
      "cell_type": "code",
      "execution_count": 2,
      "metadata": {
        "id": "6OXQ-pMk6uV-"
      },
      "outputs": [],
      "source": [
        "import re\n",
        "import string\n",
        "from scipy.spatial import distance\n",
        "from nltk.stem.porter import PorterStemmer\n",
        "from sentence_transformers import SentenceTransformer, util"
      ]
    },
    {
      "cell_type": "code",
      "source": [
        "ps = PorterStemmer()"
      ],
      "metadata": {
        "id": "yF_sIIlG_xcK"
      },
      "execution_count": 3,
      "outputs": []
    },
    {
      "cell_type": "code",
      "source": [
        "model_embedder = SentenceTransformer('distilbert-base-nli-mean-tokens')"
      ],
      "metadata": {
        "id": "tTQTYiEJ65SL"
      },
      "execution_count": 4,
      "outputs": []
    },
    {
      "cell_type": "code",
      "source": [
        "### Rule-Based Approach Conditions\n",
        "share_conditions = [\"can i \",\"should i \",\"i will\", \"shall i\", \"could i\", \"am i\",\"may i\",\"i shall\"]\n",
        "shared_conditions = [\"i have \",\"i just\", \"i already\",\"can be\",\"has been\"]"
      ],
      "metadata": {
        "id": "XYAoWw5J-zGd"
      },
      "execution_count": 5,
      "outputs": []
    },
    {
      "cell_type": "code",
      "source": [
        "### sententences for similarity based approach"
      ],
      "metadata": {
        "id": "JxiQN8Ur-y7x"
      },
      "execution_count": 6,
      "outputs": []
    },
    {
      "cell_type": "code",
      "source": [
        "share = ['Can I share your email',\n",
        "        'I will share your email',\n",
        "        'I shall share your email',\n",
        "        'May I share your email',\n",
        "        'Should I share your email',\n",
        "        'Am I allowed to share your email',\n",
        "        'Will you help my friends if I share your email with them',\n",
        "        'I am going to share your email']"
      ],
      "metadata": {
        "id": "OfPVE3z_JMi2"
      },
      "execution_count": 7,
      "outputs": []
    },
    {
      "cell_type": "code",
      "source": [
        "shared = ['I have shared your email',\n",
        "         'I already shared the email',\n",
        "         'I have just shared your email',\n",
        "         'I want to know if your email can be shared',\n",
        "         'Your email has been shared to my friends',\n",
        "          'I am able to share your email',\n",
        "          'your email will be shared',\n",
        "          'your email was shared',\n",
        "          'I shared your email']"
      ],
      "metadata": {
        "id": "m5AudiOXJMMk"
      },
      "execution_count": 8,
      "outputs": []
    },
    {
      "cell_type": "code",
      "source": [
        "### Utility Functions\n",
        "\n",
        "def stem(text):\n",
        "  \"get the stem of individual words\"\n",
        "  temp = []\n",
        "  for word in text.split():\n",
        "      word = ps.stem(word)\n",
        "      temp.append(word)\n",
        "  return \" \".join(temp)\n",
        "\n",
        "def low(text):\n",
        "  \"convert text to lower case\"\n",
        "  return text.lower()\n",
        "\n",
        "def punc(text):\n",
        "  \"remove punctuations, that is, if any\"\n",
        "  return re.sub('[%s]'%re.escape(string.punctuation), '',text)\n",
        "    "
      ],
      "metadata": {
        "id": "LN7IzH1W_OHO"
      },
      "execution_count": 9,
      "outputs": []
    },
    {
      "cell_type": "code",
      "source": [
        "# pre-process sentences\n",
        "for i in range(len(share)):\n",
        "  share[i] = stem(punc(low(share[i])))"
      ],
      "metadata": {
        "id": "rxZD5zEN75Gv"
      },
      "execution_count": 10,
      "outputs": []
    },
    {
      "cell_type": "code",
      "source": [
        "# pre-process sentences\n",
        "for i in range(len(shared)):\n",
        "  shared[i] = stem(punc(low(shared[i])))"
      ],
      "metadata": {
        "id": "eHyENykG740a"
      },
      "execution_count": 11,
      "outputs": []
    },
    {
      "cell_type": "code",
      "source": [
        "# obtain embedding for stored sentences\n",
        "share_embeddings = model_embedder.encode(share)\n",
        "shared_embeddings = model_embedder.encode(shared)"
      ],
      "metadata": {
        "id": "GuyPZSieJL32"
      },
      "execution_count": 12,
      "outputs": []
    },
    {
      "cell_type": "code",
      "source": [
        "def filter_sentence(text):\n",
        "\n",
        "  text = punc(stem(low(text)))\n",
        "\n",
        "  # Attempt rule based approach first\n",
        "  for share in share_conditions:\n",
        "    if share in text:\n",
        "      return \"Student wants to know if can share\"\n",
        "        \n",
        "  for shared in shared_conditions:\n",
        "    if shared in text:\n",
        "      return \"student has shared\"\n",
        "    \n",
        "\n",
        "  # if none of the rule-based approach conditions works, check sentence similarity\n",
        "  \n",
        "  text_embedding = model_embedder.encode(text)\n",
        "\n",
        "  share_scores,shared_scores = [],[]\n",
        "\n",
        "  for i in shared_embeddings:\n",
        "    shared_scores.append(util.pytorch_cos_sim(i, text_embedding).item())\n",
        "\n",
        "  for i in share_embeddings:\n",
        "    share_scores.append(util.pytorch_cos_sim(i, text_embedding).item())\n",
        "\n",
        "  \n",
        "  shared_mean = sum(shared_scores)/len(shared_scores)\n",
        "  share_mean = sum(share_scores)/len(share_scores)\n",
        "\n",
        "\n",
        "  if shared_mean > share_mean:\n",
        "    return \"Student has shared\"\n",
        "\n",
        "  else:\n",
        "    return \"Student wants to know if can share\"\n"
      ],
      "metadata": {
        "id": "m4WHAs-y7CvI"
      },
      "execution_count": 13,
      "outputs": []
    },
    {
      "cell_type": "code",
      "source": [
        "result = []\n",
        "tests = ['i want to share your email', 'i can share your email with my friends?','i would share your email', 'am i permitted to share your email','i just shared your email']"
      ],
      "metadata": {
        "id": "3SDqqBBlmetu"
      },
      "execution_count": 14,
      "outputs": []
    },
    {
      "cell_type": "code",
      "source": [
        "for test in tests:\n",
        "  result.append(filter_sentence(test))"
      ],
      "metadata": {
        "id": "lT5sjo7z7SeO"
      },
      "execution_count": 15,
      "outputs": []
    },
    {
      "cell_type": "code",
      "source": [
        "result"
      ],
      "metadata": {
        "colab": {
          "base_uri": "https://localhost:8080/"
        },
        "id": "V-VTRWDvmlkH",
        "outputId": "23754623-b935-400e-9eda-3cb5c42e45dc"
      },
      "execution_count": 16,
      "outputs": [
        {
          "output_type": "execute_result",
          "data": {
            "text/plain": [
              "['Student wants to know if can share',\n",
              " 'Student wants to know if can share',\n",
              " 'Student wants to know if can share',\n",
              " 'Student wants to know if can share',\n",
              " 'student has shared']"
            ]
          },
          "metadata": {},
          "execution_count": 16
        }
      ]
    },
    {
      "cell_type": "code",
      "source": [
        ""
      ],
      "metadata": {
        "id": "rnyt0KbYrHqa"
      },
      "execution_count": null,
      "outputs": []
    }
  ]
}
