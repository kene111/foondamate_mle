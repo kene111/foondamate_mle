{
  "nbformat": 4,
  "nbformat_minor": 0,
  "metadata": {
    "colab": {
      "name": "Machine Learning Engineering Task_2- FoondaMate.ipynb",
      "provenance": [],
      "collapsed_sections": []
    },
    "kernelspec": {
      "name": "python3",
      "display_name": "Python 3"
    },
    "language_info": {
      "name": "python"
    }
  },
  "cells": [
    {
      "cell_type": "code",
      "execution_count": null,
      "metadata": {
        "id": "-GQC4-_Du18Z"
      },
      "outputs": [],
      "source": [
        "import re\n",
        "import nltk\n",
        "import string\n",
        "from nltk import word_tokenize, pos_tag\n",
        "from nltk.stem.porter import PorterStemmer"
      ]
    },
    {
      "cell_type": "code",
      "source": [
        "ps = PorterStemmer()"
      ],
      "metadata": {
        "id": "9T3kW0s1xyKQ"
      },
      "execution_count": null,
      "outputs": []
    },
    {
      "cell_type": "code",
      "source": [
        "nltk.download('punkt')\n",
        "nltk.download('averaged_perceptron_tagger')"
      ],
      "metadata": {
        "colab": {
          "base_uri": "https://localhost:8080/"
        },
        "id": "RuhJHjxavrRt",
        "outputId": "948f675f-3960-47c7-b1f4-f4e261119aca"
      },
      "execution_count": null,
      "outputs": [
        {
          "output_type": "stream",
          "name": "stdout",
          "text": [
            "[nltk_data] Downloading package punkt to /root/nltk_data...\n",
            "[nltk_data]   Unzipping tokenizers/punkt.zip.\n",
            "[nltk_data] Downloading package averaged_perceptron_tagger to\n",
            "[nltk_data]     /root/nltk_data...\n",
            "[nltk_data]   Unzipping taggers/averaged_perceptron_tagger.zip.\n"
          ]
        },
        {
          "output_type": "execute_result",
          "data": {
            "text/plain": [
              "True"
            ]
          },
          "metadata": {},
          "execution_count": 2
        }
      ]
    },
    {
      "cell_type": "code",
      "source": [
        "### utility functions\n",
        "\n",
        "def stem(text):\n",
        "  \"get the stem of individual words\"\n",
        "  temp = []\n",
        "  for word in text.split():\n",
        "      word = ps.stem(word)\n",
        "      temp.append(word)\n",
        "  return \" \".join(temp)\n",
        "\n",
        "def low(text):\n",
        "  \"convert text to lower case\"\n",
        "  return text.lower()\n",
        "\n",
        "def punc(text):\n",
        "  \"remove punctuations, that is, if any\"\n",
        "  return re.sub('[%s]'%re.escape(string.punctuation), '',text)\n",
        "\n",
        "def pos_mapping(pos_tags):\n",
        "  \"map pos tags to their words\"\n",
        "  return {tags[1]: tags[0] for tags in pos_tags}\n"
      ],
      "metadata": {
        "id": "5ORnED3yvsae"
      },
      "execution_count": 87,
      "outputs": []
    },
    {
      "cell_type": "code",
      "source": [
        ""
      ],
      "metadata": {
        "id": "EZJqQ5230JKr"
      },
      "execution_count": null,
      "outputs": []
    },
    {
      "cell_type": "code",
      "source": [
        "def filter_sentence(text):\n",
        "\n",
        "  to_share = 'Student wants to know if can share'\n",
        "  has_share = 'Student has shared'\n",
        "\n",
        "  # pre-process & tokenize text\n",
        "  text = punc(stem(low(text)))\n",
        "  text = word_tokenize(text)\n",
        "  # get part of speech tagging (POS-Tagging)\n",
        "  pos_tags = pos_tag(text)\n",
        "  #map pos tags to words\n",
        "  pos_mappings = pos_mapping(pos_tag(text))\n",
        "  p_o_s = []\n",
        "\n",
        "  # remove i, your, email and share from sentence\n",
        "  for tag in pos_tags:\n",
        "    if tag[1] == 'NN' and tag[0] == 'email':\n",
        "      pass\n",
        "    elif tag[1] == 'NN' and tag[0] == 'share':\n",
        "      pass\n",
        "\n",
        "    elif tag[1] == 'PRP$' and tag[0] == 'your':\n",
        "      pass\n",
        "\n",
        "    elif tag[1] == 'NN' and tag[0] == 'i':\n",
        "      pass\n",
        "\n",
        "    elif tag[1] == 'NNS' and tag[0] == 'i':\n",
        "      pass\n",
        "\n",
        "    elif tag[1] == 'VB' and tag[0] == 'i':\n",
        "      pass\n",
        "\n",
        "    else:\n",
        "      p_o_s.append(tag[1])\n",
        "\n",
        "\n",
        "  # check if any if VBZ,VBN,VBD,VBP is found in the p_o_s list\n",
        "  pattern = re.compile(r\"VB[ZNDP]\") \n",
        "  verb_  = pattern.findall(\" \".join(p_o_s))\n",
        "\n",
        "\n",
        "  if 'MD' in p_o_s:\n",
        "    return to_share\n",
        "\n",
        "  elif 'VBP' in \" \".join(p_o_s) and ' TO' in \" \".join(p_o_s):\n",
        "    return to_share\n",
        "\n",
        "  elif len(verb_) != 0:\n",
        "    return has_share\n",
        "\n",
        "  elif len(p_o_s) == 1 and 'RB' in p_o_s:\n",
        "    return has_share \n"
      ],
      "metadata": {
        "id": "Ak9kZdsivzFi"
      },
      "execution_count": 125,
      "outputs": []
    },
    {
      "cell_type": "code",
      "source": [
        "result = []\n",
        "tests = ['i want to share your email', 'i can share your email with my friends?','i would share your email', 'am i permitted to share your email','i just shared your email']"
      ],
      "metadata": {
        "id": "uxBGPIZzxwdx"
      },
      "execution_count": 127,
      "outputs": []
    },
    {
      "cell_type": "code",
      "source": [
        "for test in tests:\n",
        "  result.append(filter_sentence(test))"
      ],
      "metadata": {
        "id": "j1qiDaqfaKGS"
      },
      "execution_count": 128,
      "outputs": []
    },
    {
      "cell_type": "code",
      "source": [
        "result"
      ],
      "metadata": {
        "colab": {
          "base_uri": "https://localhost:8080/"
        },
        "id": "JzdU1CiiaVt4",
        "outputId": "06d09741-9c60-48d0-b119-777cd345f6ae"
      },
      "execution_count": 129,
      "outputs": [
        {
          "output_type": "execute_result",
          "data": {
            "text/plain": [
              "['Student wants to know if can share',\n",
              " 'Student wants to know if can share',\n",
              " 'Student wants to know if can share',\n",
              " 'Student wants to know if can share',\n",
              " 'Student has shared']"
            ]
          },
          "metadata": {},
          "execution_count": 129
        }
      ]
    },
    {
      "cell_type": "code",
      "source": [
        ""
      ],
      "metadata": {
        "id": "rxJOCE-uaWui"
      },
      "execution_count": null,
      "outputs": []
    }
  ]
}